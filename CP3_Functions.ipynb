{
 "cells": [
  {
   "cell_type": "code",
   "execution_count": 2,
   "id": "6f16a837",
   "metadata": {},
   "outputs": [
    {
     "name": "stdout",
     "output_type": "stream",
     "text": [
      "donner le premier nombre  40\n",
      "donner le deuxième nombre  30\n"
     ]
    },
    {
     "data": {
      "text/plain": [
       "(70, 10)"
      ]
     },
     "execution_count": 2,
     "metadata": {},
     "output_type": "execute_result"
    }
   ],
   "source": [
    "# CP3 Q2\n",
    "def calculation(a,b):\n",
    "    return a+b,a-b\n",
    "x= int(input('donner le premier nombre  '))\n",
    "y=int(input('donner le deuxième nombre  '))\n",
    "calculation(x,y)"
   ]
  },
  {
   "cell_type": "code",
   "execution_count": 4,
   "id": "4eeb3cd6",
   "metadata": {},
   "outputs": [
    {
     "name": "stdout",
     "output_type": "stream",
     "text": [
      "donner la première valeur de votre liste   :  10\n",
      "donner la deuxième valeur de votre liste  :  85\n",
      "donner la troisième valeur de votre liste  :  20\n",
      "[10, 85, 20]\n",
      "la valeur maximale est :  85\n"
     ]
    }
   ],
   "source": [
    "#CP3  Q1\n",
    "def maxim(liste):\n",
    "    mx=0\n",
    "    for i in range(len(liste)):\n",
    "        if liste[i]>mx:\n",
    "            mx=liste[i]\n",
    "        else:\n",
    "            mx=mx\n",
    "    print('la valeur maximale est : ',mx)\n",
    "ma_liste=[]\n",
    "x=input('donner la première valeur de votre liste   :  ')\n",
    "y= input('donner la deuxième valeur de votre liste  :  ')\n",
    "z=input('donner la troisième valeur de votre liste  :  ')\n",
    "ma_liste.append(int(x))\n",
    "ma_liste.append(int(y))\n",
    "ma_liste.append(int(z))\n",
    "print(ma_liste)\n",
    "maxim(ma_liste)"
   ]
  },
  {
   "cell_type": "code",
   "execution_count": 17,
   "id": "9d228f61",
   "metadata": {},
   "outputs": [
    {
     "name": "stdout",
     "output_type": "stream",
     "text": [
      "donner la longueur de votre liste  : 4\n",
      "donner lélement de la liste : 1\n",
      "[1]\n",
      "donner lélement de la liste : 2\n",
      "[1, 2]\n",
      "donner lélement de la liste : 3\n",
      "[1, 2, 3]\n",
      "donner lélement de la liste : 4\n",
      "[1, 2, 3, 4]\n",
      "ma liste finale est  : [1, 2, 3, 4]\n",
      "la somme des éléments est :  10\n",
      "le produit des éléments est :  24\n",
      "la somme des éléments est :  4\n",
      "le produit des éléments est :  8\n"
     ]
    }
   ],
   "source": [
    "#CP3 Q3\n",
    "def split_list(L):\n",
    "    liste_pair=[]\n",
    "    liste_imp=[]\n",
    "    for i in range(len(L)):\n",
    "        if i%2==0:\n",
    "            liste_pair.append(L[i])\n",
    "        else:\n",
    "            liste_imp.append(L[i])\n",
    "    return liste_pair, liste_imp\n",
    "    #print('la liste des éléments pairs  :  ', liste_pair)\n",
    "    #print('la liste des éléments impairs  : ', liste_imp)\n",
    "def sm(L):\n",
    "    s=0\n",
    "    for i in range(len(L)):\n",
    "        s=s+L[i]\n",
    "    print('la somme des éléments est : ',s)\n",
    "def pdt(L):\n",
    "    p=1\n",
    "    for i in range(len(L)):\n",
    "        p=p*L[i]\n",
    "    print('le produit des éléments est : ',p)\n",
    "\n",
    "ma_liste=[]\n",
    "n=int(input('donner la longueur de votre liste  : '))\n",
    "for i in range(n):\n",
    "    x=int(input('donner l''élement de la liste : '))\n",
    "    ma_liste.append(x)\n",
    "    print(ma_liste)\n",
    "print('ma liste finale est  :',ma_liste)\n",
    "sm(ma_liste)\n",
    "pdt(ma_liste)\n",
    "x,y = split_list(ma_liste)\n",
    "sm(x)\n",
    "pdt(y)\n"
   ]
  },
  {
   "cell_type": "code",
   "execution_count": 35,
   "id": "db53f451",
   "metadata": {},
   "outputs": [
    {
     "name": "stdout",
     "output_type": "stream",
     "text": [
      "ton premier mot yellow\n",
      "ton second mot green\n",
      "ton troisième mot blue\n",
      "ton quaterieme mot  red\n",
      "yellow-green-blue-red\n",
      "['yellow', 'green', 'blue', 'red']\n",
      "---\n",
      "['blue', 'green', 'red', 'yellow']\n"
     ]
    }
   ],
   "source": [
    "#CP3 Q4\n",
    "ch1,ch2,ch3,ch4=input('ton premier mot '), input('ton second mot '), input('ton troisième mot '), input('ton quaterieme mot  ')\n",
    "msg=ch1+'-'+ch2+'-'+ch3+'-'+ch4\n",
    "print(msg)\n",
    "msg1=msg.split('-')\n",
    "print(msg1)\n",
    "msg1.sort()\n",
    "print('---')\n",
    "print(msg1)\n",
    "#print(\"-\".join(msg1))\n"
   ]
  },
  {
   "cell_type": "code",
   "execution_count": 47,
   "id": "52c70926",
   "metadata": {},
   "outputs": [
    {
     "name": "stdout",
     "output_type": "stream",
     "text": [
      "premiere valeur 100\n",
      "deuxieme valeur 150\n",
      "troisieme valeur180\n",
      "100,150,180\n",
      "['100', '150', '180']\n",
      "['18', '22', '24']\n",
      "18,22,24\n"
     ]
    }
   ],
   "source": [
    "#CP3 - Q5\n",
    "from math import *\n",
    "h=30\n",
    "c=50\n",
    "x,y,z=input('premiere valeur '), input('deuxieme valeur '), input('troisieme valeur') \n",
    "msg=x+','+y+','+z\n",
    "print (msg)\n",
    "msg1=msg.split(',')\n",
    "print(msg1)\n",
    "result=[]\n",
    "for i in msg1:\n",
    "    j=int(i)\n",
    "    result.append(str(round(sqrt(2*c*j/h))))\n",
    "print(result)\n",
    "print(\",\".join(result))\n",
    "#print(y)"
   ]
  },
  {
   "cell_type": "code",
   "execution_count": null,
   "id": "4bb8e4ed",
   "metadata": {},
   "outputs": [],
   "source": []
  }
 ],
 "metadata": {
  "kernelspec": {
   "display_name": "Python 3 (ipykernel)",
   "language": "python",
   "name": "python3"
  },
  "language_info": {
   "codemirror_mode": {
    "name": "ipython",
    "version": 3
   },
   "file_extension": ".py",
   "mimetype": "text/x-python",
   "name": "python",
   "nbconvert_exporter": "python",
   "pygments_lexer": "ipython3",
   "version": "3.9.12"
  }
 },
 "nbformat": 4,
 "nbformat_minor": 5
}
